{
 "cells": [
  {
   "cell_type": "markdown",
   "metadata": {},
   "source": [
    "<h1>Minería de datos. Clase 01</h1>"
   ]
  },
  {
   "cell_type": "markdown",
   "metadata": {},
   "source": [
    "<h3>Datos e importaciones base</h3>"
   ]
  },
  {
   "cell_type": "code",
   "execution_count": null,
   "metadata": {},
   "outputs": [],
   "source": [
    "import pandas as pd\n",
    "import seaborn as sns\n",
    "import matplotlib.pyplot as plt"
   ]
  },
  {
   "cell_type": "code",
   "execution_count": null,
   "metadata": {},
   "outputs": [],
   "source": [
    "# Crear DataFrame con los datos del ejercicio\n",
    "datos = {\n",
    "\"Cliente\": [1, 2, 3, 4, 5],\n",
    "\"Edad\": [25, 40, 32, 22, 35],\n",
    "\"Plan\": [\"Básico\", \"Premium\", \"Estándar\", \"Básico\", \"Premium\"],\n",
    "\"Consumo_GB\": [5, 50, 10, 7, 45],\n",
    "\"Reclamos\": [1, 0, 2, 3, 0],\n",
    "\"Estado_Cuenta\": [\"Pagado\", \"Pagado\", \"Moroso\", \"Moroso\", \"Pagado\"]\n",
    "}\n",
    "df = pd.DataFrame(datos)"
   ]
  },
  {
   "cell_type": "code",
   "execution_count": null,
   "metadata": {},
   "outputs": [],
   "source": [
    "# Inspeccionar los datos\n",
    "print(df.info())\n",
    "print(df.describe())"
   ]
  },
  {
   "cell_type": "code",
   "execution_count": null,
   "metadata": {},
   "outputs": [],
   "source": [
    "# Ver distribución de consumo de datos\n",
    "sns.histplot(df[\"Consumo_GB\"], bins=5, kde=True)\n",
    "plt.show()"
   ]
  },
  {
   "cell_type": "code",
   "execution_count": null,
   "metadata": {},
   "outputs": [],
   "source": [
    "# Gráfico de barras de Estado de Cuenta\n",
    "sns.countplot(x=df[\"Estado_Cuenta\"])\n",
    "plt.show()"
   ]
  },
  {
   "cell_type": "markdown",
   "metadata": {},
   "source": [
    "<h3>Preguntas a responder</h3>"
   ]
  },
  {
   "cell_type": "markdown",
   "metadata": {},
   "source": [
    "<h4>1. Identificación de Fases en KDD y CRISP-DM</h4>\n",
    "<p>Respecto al proceso <b>KDT</b>, la seleción de datos, ya está hecha. Revisaría y limpiaría los datos (no se observan anormalidades), los transformaría (ver siguiente pregunta), buscaría patrones y los interpreto.</p>\n",
    "<p>Respecto al <b>CRISP</b>, el negocio se explica previamente con palabras, la fuente de datos es desconocida pero se asume que es confiable. Después de preparan y transforman los datos (en particular los categóricos). Luego se aplican modelos y se los evalua, viendo cual funciona mejor. Luego se usa el modelo ganador.</p>\n"
   ]
  },
  {
   "cell_type": "markdown",
   "metadata": {},
   "source": [
    "<h4>2. Preprocesamiento de Datos</h4>"
   ]
  }
 ],
 "metadata": {
  "kernelspec": {
   "display_name": "Python 3",
   "language": "python",
   "name": "python3"
  },
  "language_info": {
   "codemirror_mode": {
    "name": "ipython",
    "version": 3
   },
   "file_extension": ".py",
   "mimetype": "text/x-python",
   "name": "python",
   "nbconvert_exporter": "python",
   "pygments_lexer": "ipython3",
   "version": "3.13.0"
  }
 },
 "nbformat": 4,
 "nbformat_minor": 2
}
