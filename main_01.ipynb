{
 "cells": [
  {
   "cell_type": "markdown",
   "metadata": {},
   "source": [
    "<h1>Minería de datos. Clase 01</h1>"
   ]
  },
  {
   "cell_type": "markdown",
   "metadata": {},
   "source": [
    "<h3>Datos e importaciones base</h3>"
   ]
  },
  {
   "cell_type": "code",
   "execution_count": 36,
   "metadata": {},
   "outputs": [],
   "source": [
    "import pandas as pd\n",
    "import seaborn as sns\n",
    "import matplotlib.pyplot as plt"
   ]
  },
  {
   "cell_type": "code",
   "execution_count": 37,
   "metadata": {},
   "outputs": [],
   "source": [
    "# Crear DataFrame con los datos del ejercicio\n",
    "datos = {\n",
    "\"Cliente\": [1, 2, 3, 4, 5],\n",
    "\"Edad\": [25, 40, 32, 22, 35],\n",
    "\"Plan\": [\"Básico\", \"Premium\", \"Estándar\", \"Básico\", \"Premium\"],\n",
    "\"Consumo_GB\": [5, 50, 10, 7, 45],\n",
    "\"Reclamos\": [1, 0, 2, 3, 0],\n",
    "\"Estado_Cuenta\": [\"Pagado\", \"Pagado\", \"Moroso\", \"Moroso\", \"Pagado\"]\n",
    "}\n",
    "df_clientes = pd.DataFrame(datos)"
   ]
  },
  {
   "cell_type": "code",
   "execution_count": 38,
   "metadata": {},
   "outputs": [
    {
     "name": "stdout",
     "output_type": "stream",
     "text": [
      "<class 'pandas.core.frame.DataFrame'>\n",
      "RangeIndex: 5 entries, 0 to 4\n",
      "Data columns (total 6 columns):\n",
      " #   Column         Non-Null Count  Dtype \n",
      "---  ------         --------------  ----- \n",
      " 0   Cliente        5 non-null      int64 \n",
      " 1   Edad           5 non-null      int64 \n",
      " 2   Plan           5 non-null      object\n",
      " 3   Consumo_GB     5 non-null      int64 \n",
      " 4   Reclamos       5 non-null      int64 \n",
      " 5   Estado_Cuenta  5 non-null      object\n",
      "dtypes: int64(4), object(2)\n",
      "memory usage: 372.0+ bytes\n",
      "None\n",
      "        Cliente       Edad  Consumo_GB  Reclamos\n",
      "count  5.000000   5.000000    5.000000   5.00000\n",
      "mean   3.000000  30.800000   23.400000   1.20000\n",
      "std    1.581139   7.328028   22.142719   1.30384\n",
      "min    1.000000  22.000000    5.000000   0.00000\n",
      "25%    2.000000  25.000000    7.000000   0.00000\n",
      "50%    3.000000  32.000000   10.000000   1.00000\n",
      "75%    4.000000  35.000000   45.000000   2.00000\n",
      "max    5.000000  40.000000   50.000000   3.00000\n"
     ]
    }
   ],
   "source": [
    "# Inspeccionar los datos\n",
    "print(df_clientes.info())\n",
    "print(df_clientes.describe())"
   ]
  },
  {
   "cell_type": "markdown",
   "metadata": {},
   "source": [
    "<h3>Preguntas a responder</h3>"
   ]
  },
  {
   "cell_type": "markdown",
   "metadata": {},
   "source": [
    "<h4>1. Identificación de Fases en KDD y CRISP-DM</h4>\n",
    "<p>Respecto al proceso <b>KDT</b>, la seleción de datos, ya está hecha. Revisaría y limpiaría los datos (no se observan anormalidades), los transformaría (ver siguiente pregunta), buscaría patrones y los interpreto.</p>\n",
    "<p>Respecto al <b>CRISP</b>, el negocio se explica previamente con palabras, la fuente de datos es desconocida pero se asume que es confiable. Después de preparan y transforman los datos (en particular los categóricos). Luego se aplican modelos y se los evalua, viendo cual funciona mejor. Luego se usa el modelo ganador.</p>\n"
   ]
  },
  {
   "cell_type": "markdown",
   "metadata": {},
   "source": [
    "<h4>2. Preprocesamiento de Datos</h4>"
   ]
  },
  {
   "cell_type": "markdown",
   "metadata": {},
   "source": [
    "<p>Respecto a los datos, podría haber datos faltantes, datos sin sentido (negativos para este caso, por ejemplo) o inconsistentes (consumos muy elevados respecto a la media y varianza, por ejemplo)</p>\n",
    "<p>En este caso no se encuentran datos a corregir. Sin embargo se deben realizar transformaciones. El número de cliente debería ser considerado un factor, ya que, por ejemplo, el cliente 2 no representa el doble del cliente 1. Además, los datos cargados como string deben pasarse a otro formato.</p>"
   ]
  },
  {
   "cell_type": "markdown",
   "metadata": {},
   "source": [
    "<p>El <strong>plan contratado</strong> se puede convertir a <i>int</i> o dejar como está y considerar como factores.</p>\n",
    "<p>El <strong>estado de cuenta</strong> se puede convertir a booleno ya que son dos opciones (es moroso o no).</p>"
   ]
  },
  {
   "cell_type": "code",
   "execution_count": 40,
   "metadata": {},
   "outputs": [
    {
     "name": "stdout",
     "output_type": "stream",
     "text": [
      "Valores faltantes\n",
      "Cliente          0\n",
      "Edad             0\n",
      "Plan             0\n",
      "Consumo_GB       0\n",
      "Reclamos         0\n",
      "Estado_Cuenta    0\n",
      "dtype: int64\n",
      "\n",
      "Datos fuera de rango\n"
     ]
    },
    {
     "data": {
      "application/vnd.microsoft.datawrangler.viewer.v0+json": {
       "columns": [
        {
         "name": "index",
         "rawType": "int64",
         "type": "integer"
        },
        {
         "name": "Cliente",
         "rawType": "int64",
         "type": "integer"
        },
        {
         "name": "Edad",
         "rawType": "int64",
         "type": "integer"
        },
        {
         "name": "Plan",
         "rawType": "object",
         "type": "string"
        },
        {
         "name": "Consumo_GB",
         "rawType": "int64",
         "type": "integer"
        },
        {
         "name": "Reclamos",
         "rawType": "int64",
         "type": "integer"
        },
        {
         "name": "Estado_Cuenta",
         "rawType": "object",
         "type": "string"
        }
       ],
       "conversionMethod": "pd.DataFrame",
       "ref": "c3c8c1df-c3c3-4d51-be82-d255073a550f",
       "rows": [],
       "shape": {
        "columns": 6,
        "rows": 0
       }
      },
      "text/html": [
       "<div>\n",
       "<style scoped>\n",
       "    .dataframe tbody tr th:only-of-type {\n",
       "        vertical-align: middle;\n",
       "    }\n",
       "\n",
       "    .dataframe tbody tr th {\n",
       "        vertical-align: top;\n",
       "    }\n",
       "\n",
       "    .dataframe thead th {\n",
       "        text-align: right;\n",
       "    }\n",
       "</style>\n",
       "<table border=\"1\" class=\"dataframe\">\n",
       "  <thead>\n",
       "    <tr style=\"text-align: right;\">\n",
       "      <th></th>\n",
       "      <th>Cliente</th>\n",
       "      <th>Edad</th>\n",
       "      <th>Plan</th>\n",
       "      <th>Consumo_GB</th>\n",
       "      <th>Reclamos</th>\n",
       "      <th>Estado_Cuenta</th>\n",
       "    </tr>\n",
       "  </thead>\n",
       "  <tbody>\n",
       "  </tbody>\n",
       "</table>\n",
       "</div>"
      ],
      "text/plain": [
       "Empty DataFrame\n",
       "Columns: [Cliente, Edad, Plan, Consumo_GB, Reclamos, Estado_Cuenta]\n",
       "Index: []"
      ]
     },
     "execution_count": 40,
     "metadata": {},
     "output_type": "execute_result"
    }
   ],
   "source": [
    "print('Valores faltantes')\n",
    "print(df_clientes.isnull().sum())\n",
    "print('\\nDatos fuera de rango')\n",
    "df_clientes.query(\"Edad < 0 or Cliente < 0 or Consumo_GB < 0 or\"\n",
    "\" Reclamos < 0 or Edad > 100\")"
   ]
  },
  {
   "cell_type": "markdown",
   "metadata": {},
   "source": [
    "<h4>3. Exploración de Datos</h4>"
   ]
  },
  {
   "cell_type": "code",
   "execution_count": null,
   "metadata": {},
   "outputs": [
    {
     "data": {
      "image/png": "[encoded data removed]",
      "text/plain": [
       "<Figure size 640x480 with 1 Axes>"
      ]
     },
     "metadata": {},
     "output_type": "display_data"
    }
   ],
   "source": [
    "# Ver histograma de distribución de consumo de datos\n",
    "sns.histplot(df_clientes[\"Consumo_GB\"], bins=8, kde=True)\n",
    "plt.show()"
   ]
  },
  {
   "cell_type": "code",
   "execution_count": 43,
   "metadata": {},
   "outputs": [
    {
     "data": {
      "image/png": "[encoded data removed]",
      "text/plain": [
       "<Figure size 640x480 with 1 Axes>"
      ]
     },
     "metadata": {},
     "output_type": "display_data"
    }
   ],
   "source": [
    "# Gráfico de barras de Estado de Cuenta\n",
    "sns.countplot(x=df_clientes[\"Estado_Cuenta\"])\n",
    "plt.show()"
   ]
  },
  {
   "cell_type": "code",
   "execution_count": null,
   "metadata": {},
   "outputs": [
    {
     "data": {
      "text/plain": [
       "<Axes: xlabel='Estado_Cuenta', ylabel='Consumo_GB'>"
      ]
     },
     "execution_count": 44,
     "metadata": {},
     "output_type": "execute_result"
    },
    {
     "data": {
      "image/png": "[encoded data removed]",
      "text/plain": [
       "<Figure size 1000x600 with 1 Axes>"
      ]
     },
     "metadata": {},
     "output_type": "display_data"
    }
   ],
   "source": [
    "# Consumo vs Estado de Cuenta\n",
    "plt.figure(figsize=(10,6))\n",
    "\n",
    "sns.boxplot(x=\"Estado_Cuenta\", y=\"Consumo_GB\", data=df_clientes)"
   ]
  },
  {
   "cell_type": "code",
   "execution_count": 45,
   "metadata": {},
   "outputs": [
    {
     "data": {
      "text/plain": [
       "<Axes: xlabel='Estado_Cuenta', ylabel='Reclamos'>"
      ]
     },
     "execution_count": 45,
     "metadata": {},
     "output_type": "execute_result"
    },
    {
     "data": {
      "image/png": "[encoded data removed]",
      "text/plain": [
       "<Figure size 1000x600 with 1 Axes>"
      ]
     },
     "metadata": {},
     "output_type": "display_data"
    }
   ],
   "source": [
    "# Consumo vs Estado de Cuenta\n",
    "plt.figure(figsize=(10,6))\n",
    "\n",
    "sns.boxplot(x=\"Estado_Cuenta\", y=\"Reclamos\", data=df_clientes)"
   ]
  },
  {
   "cell_type": "markdown",
   "metadata": {},
   "source": [
    "<h4>4. Interpretación de Resultados</h4>\n",
    "<p>Pareciera haber dos grupos de personas según el nivel de consumo (bajo o alto). A su vez, los que tienen un menor consumo tienen mayor tendencia hacia las deudas. Por otro lado, los morosos tienen mayor tendencia a realizar reclamos que los clientes pagadores</p>"
   ]
  }
 ],
 "metadata": {
  "kernelspec": {
   "display_name": "Python 3",
   "language": "python",
   "name": "python3"
  },
  "language_info": {
   "codemirror_mode": {
    "name": "ipython",
    "version": 3
   },
   "file_extension": ".py",
   "mimetype": "text/x-python",
   "name": "python",
   "nbconvert_exporter": "python",
   "pygments_lexer": "ipython3",
   "version": "3.13.0"
  }
 },
 "nbformat": 4,
 "nbformat_minor": 2
}
